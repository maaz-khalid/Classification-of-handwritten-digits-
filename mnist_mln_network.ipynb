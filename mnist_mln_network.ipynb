{
  "nbformat": 4,
  "nbformat_minor": 0,
  "metadata": {
    "accelerator": "GPU",
    "colab": {
      "name": "mnist_mln_network.ipynb",
      "provenance": [],
      "collapsed_sections": []
    },
    "kernelspec": {
      "display_name": "Python 3",
      "language": "python",
      "name": "python3"
    },
    "language_info": {
      "codemirror_mode": {
        "name": "ipython",
        "version": 3
      },
      "file_extension": ".py",
      "mimetype": "text/x-python",
      "name": "python",
      "nbconvert_exporter": "python",
      "pygments_lexer": "ipython3",
      "version": "3.7.4"
    }
  },
  "cells": [
    {
      "cell_type": "markdown",
      "metadata": {
        "colab_type": "text",
        "id": "MvErumT0n0_-"
      },
      "source": [
        "# Classification of handwritten digits using MLN\n"
      ]
    },
    {
      "cell_type": "markdown",
      "metadata": {
        "colab_type": "text",
        "id": "zh0uH8bDn1AE"
      },
      "source": [
        "# MNIST Dataset\n",
        "\n",
        "<img src=\"https://upload.wikimedia.org/wikipedia/commons/2/27/MnistExamples.png\" title=\"MNIST dataset\" align=\"center\"/>\n",
        "\n"
      ]
    },
    {
      "cell_type": "markdown",
      "metadata": {
        "colab_type": "text",
        "id": "1K6Im4RYn1AK"
      },
      "source": [
        "# Problem\n",
        "Classify handwritten digits from 0 - 9. <br>\n",
        "Each image is 28x28 pixels\n",
        "\n",
        "<img src=\"https://corochann.com/wp-content/uploads/2017/02/mnist_plot.png\" title=\"\" align=\"center\"/>\n"
      ]
    },
    {
      "cell_type": "markdown",
      "metadata": {
        "colab_type": "text",
        "id": "EVex4puqn1AO"
      },
      "source": [
        "# Understanding the data"
      ]
    },
    {
      "cell_type": "code",
      "metadata": {
        "colab_type": "code",
        "id": "alqmfbOIn1AR",
        "colab": {}
      },
      "source": [
        "# MNIST data is present in the keras library. You may load it from there\n",
        "import tensorflow as tf\n",
        "from tensorflow.keras.datasets import mnist\n",
        "(train_samples, train_labels), (test_samples, test_labels) = mnist.load_data()\n",
        "# Training samples "
      ],
      "execution_count": 28,
      "outputs": []
    },
    {
      "cell_type": "markdown",
      "metadata": {
        "colab_type": "text",
        "id": "3CNRCPbrn1Ae"
      },
      "source": [
        "### Shape of Data"
      ]
    },
    {
      "cell_type": "code",
      "metadata": {
        "colab_type": "code",
        "id": "_pAn6o3Vn1Ag",
        "colab": {
          "base_uri": "https://localhost:8080/",
          "height": 84
        },
        "outputId": "00441aef-5654-46ea-c653-f7126c68aadb"
      },
      "source": [
        "print(train_samples.shape)\n",
        "print(train_labels.shape)\n",
        "print(test_samples.shape)\n",
        "print(test_labels.shape)"
      ],
      "execution_count": 29,
      "outputs": [
        {
          "output_type": "stream",
          "text": [
            "(60000, 28, 28)\n",
            "(60000,)\n",
            "(10000, 28, 28)\n",
            "(10000,)\n"
          ],
          "name": "stdout"
        }
      ]
    },
    {
      "cell_type": "markdown",
      "metadata": {
        "colab_type": "text",
        "id": "ubf7aJPIn1Ax"
      },
      "source": [
        "### Range of Values"
      ]
    },
    {
      "cell_type": "code",
      "metadata": {
        "colab_type": "code",
        "id": "-jiF1J8Jn1A0",
        "colab": {
          "base_uri": "https://localhost:8080/",
          "height": 34
        },
        "outputId": "0161f343-870a-4715-a8bd-1fd17ff953dc"
      },
      "source": [
        "import numpy as np\n",
        "np.amax(train_samples) # Max value"
      ],
      "execution_count": 30,
      "outputs": [
        {
          "output_type": "execute_result",
          "data": {
            "text/plain": [
              "255"
            ]
          },
          "metadata": {
            "tags": []
          },
          "execution_count": 30
        }
      ]
    },
    {
      "cell_type": "code",
      "metadata": {
        "colab_type": "code",
        "id": "Mu18byDmn1A-",
        "colab": {
          "base_uri": "https://localhost:8080/",
          "height": 34
        },
        "outputId": "8e5181ba-be45-4f2d-e735-d1874995bd06"
      },
      "source": [
        "np.amin(train_samples) # Min Value"
      ],
      "execution_count": 31,
      "outputs": [
        {
          "output_type": "execute_result",
          "data": {
            "text/plain": [
              "0"
            ]
          },
          "metadata": {
            "tags": []
          },
          "execution_count": 31
        }
      ]
    },
    {
      "cell_type": "code",
      "metadata": {
        "colab_type": "code",
        "id": "_OkrzUFQn1BI",
        "colab": {
          "base_uri": "https://localhost:8080/",
          "height": 282
        },
        "outputId": "87efcfbb-ab95-47f3-ce06-c80bf58316c6"
      },
      "source": [
        "%matplotlib inline\n",
        "import matplotlib.pyplot as plt\n",
        "\n",
        "pixels = train_samples[0] # Shape (28, 28)\n",
        "plt.imshow(pixels, cmap='gray')\n",
        "plt.show()\n",
        "print('Label of image is', train_labels[0])"
      ],
      "execution_count": 32,
      "outputs": [
        {
          "output_type": "display_data",
          "data": {
            "image/png": "[encoded data removed]",
            "text/plain": [
              "<Figure size 432x288 with 1 Axes>"
            ]
          },
          "metadata": {
            "tags": [],
            "needs_background": "light"
          }
        },
        {
          "output_type": "stream",
          "text": [
            "Label of image is 5\n"
          ],
          "name": "stdout"
        }
      ]
    },
    {
      "cell_type": "markdown",
      "metadata": {
        "colab_type": "text",
        "id": "N6JiZgztn1BP"
      },
      "source": [
        "# Data Preparation"
      ]
    },
    {
      "cell_type": "markdown",
      "metadata": {
        "colab_type": "text",
        "id": "7hUHie4_n1BQ"
      },
      "source": [
        "### Normalize inputs to (0, 1)"
      ]
    },
    {
      "cell_type": "code",
      "metadata": {
        "colab_type": "code",
        "id": "iGKZASBBn1BS",
        "colab": {}
      },
      "source": [
        "# Convert data type from uint8 to float32\n",
        "train_samples = train_samples.astype('float32')\n",
        "test_samples = test_samples.astype('float32')"
      ],
      "execution_count": 33,
      "outputs": []
    },
    {
      "cell_type": "code",
      "metadata": {
        "colab_type": "code",
        "id": "gbaIejYPn1BX",
        "colab": {
          "base_uri": "https://localhost:8080/",
          "height": 34
        },
        "outputId": "1c4c42bf-976a-4d6f-f4f6-972b617daef0"
      },
      "source": [
        "# Normalize inputs to (0,1)\n",
        "train_samples = train_samples/255.\n",
        "test_samples = test_samples/255.\n",
        "np.amax(train_samples) # max value has become 1.0\n",
        "print(train_samples.shape)"
      ],
      "execution_count": 34,
      "outputs": [
        {
          "output_type": "stream",
          "text": [
            "(60000, 28, 28)\n"
          ],
          "name": "stdout"
        }
      ]
    },
    {
      "cell_type": "code",
      "metadata": {
        "colab_type": "code",
        "id": "0klvh6HMn1Be",
        "colab": {
          "base_uri": "https://localhost:8080/",
          "height": 34
        },
        "outputId": "1a920c71-2b6a-4f34-fb69-4897952b3ef3"
      },
      "source": [
        "## Reshape input to be a column vector\n",
        "train_samples = train_samples.reshape(train_samples.shape[0], 28*28)\n",
        "print(train_samples.shape)\n",
        "test_samples = test_samples.reshape(test_samples.shape[0], 28*28)"
      ],
      "execution_count": 35,
      "outputs": [
        {
          "output_type": "stream",
          "text": [
            "(60000, 784)\n"
          ],
          "name": "stdout"
        }
      ]
    },
    {
      "cell_type": "markdown",
      "metadata": {
        "colab_type": "text",
        "id": "jzvfaeh9n1Bj"
      },
      "source": [
        "### Convert outputs to 1-hot vectors\n",
        "\\begin{equation*}\n",
        "Eg: 5 \\rightarrow [0, 0, 0, 0, 0, 1, 0, 0, 0, 0]\n",
        "\\end{equation*}"
      ]
    },
    {
      "cell_type": "code",
      "metadata": {
        "colab_type": "code",
        "id": "kCxrh0-nn1Bl",
        "colab": {
          "base_uri": "https://localhost:8080/",
          "height": 34
        },
        "outputId": "c3b41e42-1072-41c4-d9e6-a16cdf63d59d"
      },
      "source": [
        "# keras has a utility function for this\n",
        "from tensorflow.keras.utils import to_categorical\n",
        "train_labels = to_categorical(train_labels)\n",
        "test_labels = to_categorical(test_labels)\n",
        "# example\n",
        "train_labels[0] # label = 5"
      ],
      "execution_count": 36,
      "outputs": [
        {
          "output_type": "execute_result",
          "data": {
            "text/plain": [
              "array([0., 0., 0., 0., 0., 1., 0., 0., 0., 0.], dtype=float32)"
            ]
          },
          "metadata": {
            "tags": []
          },
          "execution_count": 36
        }
      ]
    },
    {
      "cell_type": "markdown",
      "metadata": {
        "colab_type": "text",
        "id": "2_Pt8JB8n1Bq"
      },
      "source": [
        "# Network Architecture\n",
        "\n",
        "<img src=\"https://drive.google.com/uc?id=1m2jgscTgKlvtzj757I9YMJE2sqNXmMMy\" title=\"\" align=\"center\" width=\"50%\" height=\"50%\"/>"
      ]
    },
    {
      "cell_type": "markdown",
      "metadata": {
        "colab_type": "text",
        "id": "aceZEJRzn1Bs"
      },
      "source": [
        "### Softmax Activation Function\n",
        "In the Dense (Fully Connected) layer, we use a softmax activation function\n",
        "\\begin{align}\n",
        "\\sigma(x_j) = \\frac{e^{x_j}}{\\sum_{i}e^{x_i}}\n",
        "\\end{align}\n",
        "\n",
        " The softmax function is a function that takes as input a vector of K real numbers, and normalizes it into a probability distribution consisting of K probabilities"
      ]
    },
    {
      "cell_type": "code",
      "metadata": {
        "colab_type": "code",
        "id": "amqRJpZun1Bt",
        "colab": {}
      },
      "source": [
        "# Layer definitions\n",
        "from tensorflow.keras.layers import Input, Dense\n",
        "\n",
        "input_layer = Input(shape = train_samples.shape[1:])\n",
        "hidden_layer = Dense(512, activation = 'sigmoid',)(input_layer)\n",
        "output_layer = Dense(10, activation = 'softmax')(hidden_layer)\n",
        "\n"
      ],
      "execution_count": 37,
      "outputs": []
    },
    {
      "cell_type": "markdown",
      "metadata": {
        "colab_type": "text",
        "id": "VBVFR5ran1By"
      },
      "source": [
        "Loss is Categorical Crossentropy\n",
        "\n",
        "\\begin{align}\n",
        "L(t,p) = -\\sum_{x}t(x)log(p(x))\n",
        "\\end{align}\n",
        "\n",
        "where  𝑥  ranges over the elements of the output vector\n",
        "\n",
        "\\begin{align}\n",
        "t \\rightarrow \\text{true probability distribution} \\\\\n",
        "p \\rightarrow \\text{predicted probability distribution}\n",
        "\\end{align}\n",
        "In our case, $t$ is always a delta function. \n",
        "For eg., for label = 5,<br>\n",
        "$t(x) = 1$ if $x = 5$ and 0 otherwise"
      ]
    },
    {
      "cell_type": "markdown",
      "metadata": {
        "colab_type": "text",
        "id": "PiZKWdx5n1B0"
      },
      "source": [
        "Weight update Rule\n",
        "\n",
        "\\begin{align}\n",
        "W' \\leftarrow W - \\eta\\frac{\\partial L}{\\partial W}\n",
        "\\end{align}"
      ]
    },
    {
      "cell_type": "code",
      "metadata": {
        "colab_type": "code",
        "id": "iN6BITwtn1B1",
        "scrolled": true,
        "colab": {
          "base_uri": "https://localhost:8080/",
          "height": 252
        },
        "outputId": "12aa97e5-6b99-4431-c70c-1dee50738e49"
      },
      "source": [
        "# Model definition\n",
        "from tensorflow.keras.models import Model\n",
        "from tensorflow.keras import optimizers\n",
        "model = Model(inputs=[input_layer], outputs=[output_layer])\n",
        "model.compile(optimizer=optimizers.Adam(lr=0.001), loss='categorical_crossentropy', metrics=['accuracy'])\n",
        "model.summary()"
      ],
      "execution_count": 38,
      "outputs": [
        {
          "output_type": "stream",
          "text": [
            "Model: \"model_1\"\n",
            "_________________________________________________________________\n",
            "Layer (type)                 Output Shape              Param #   \n",
            "=================================================================\n",
            "input_2 (InputLayer)         [(None, 784)]             0         \n",
            "_________________________________________________________________\n",
            "dense_2 (Dense)              (None, 512)               401920    \n",
            "_________________________________________________________________\n",
            "dense_3 (Dense)              (None, 10)                5130      \n",
            "=================================================================\n",
            "Total params: 407,050\n",
            "Trainable params: 407,050\n",
            "Non-trainable params: 0\n",
            "_________________________________________________________________\n"
          ],
          "name": "stdout"
        }
      ]
    },
    {
      "cell_type": "code",
      "metadata": {
        "colab_type": "code",
        "id": "u-2Sfsxtn1B7",
        "scrolled": true,
        "colab": {
          "base_uri": "https://localhost:8080/",
          "height": 1000
        },
        "outputId": "cc9bc3e8-2c68-4588-e8ba-15f1e6a0faca"
      },
      "source": [
        "history = model.fit(train_samples, train_labels, validation_split = 0.1, epochs=100, batch_size=200)\n",
        "# Use 10% of samples for validation, validation_split is the relevant parameter\n"
      ],
      "execution_count": 39,
      "outputs": [
        {
          "output_type": "stream",
          "text": [
            "Epoch 1/100\n",
            "270/270 [==============================] - 1s 5ms/step - loss: 0.5411 - accuracy: 0.8605 - val_loss: 0.2577 - val_accuracy: 0.9307\n",
            "Epoch 2/100\n",
            "270/270 [==============================] - 1s 4ms/step - loss: 0.2833 - accuracy: 0.9192 - val_loss: 0.2104 - val_accuracy: 0.9425\n",
            "Epoch 3/100\n",
            "270/270 [==============================] - 1s 4ms/step - loss: 0.2346 - accuracy: 0.9331 - val_loss: 0.1751 - val_accuracy: 0.9515\n",
            "Epoch 4/100\n",
            "270/270 [==============================] - 1s 4ms/step - loss: 0.1990 - accuracy: 0.9422 - val_loss: 0.1570 - val_accuracy: 0.9567\n",
            "Epoch 5/100\n",
            "270/270 [==============================] - 1s 4ms/step - loss: 0.1691 - accuracy: 0.9516 - val_loss: 0.1355 - val_accuracy: 0.9625\n",
            "Epoch 6/100\n",
            "270/270 [==============================] - 1s 4ms/step - loss: 0.1449 - accuracy: 0.9583 - val_loss: 0.1292 - val_accuracy: 0.9643\n",
            "Epoch 7/100\n",
            "270/270 [==============================] - 1s 4ms/step - loss: 0.1260 - accuracy: 0.9639 - val_loss: 0.1179 - val_accuracy: 0.9673\n",
            "Epoch 8/100\n",
            "270/270 [==============================] - 1s 4ms/step - loss: 0.1102 - accuracy: 0.9684 - val_loss: 0.1096 - val_accuracy: 0.9695\n",
            "Epoch 9/100\n",
            "270/270 [==============================] - 1s 4ms/step - loss: 0.0960 - accuracy: 0.9732 - val_loss: 0.0937 - val_accuracy: 0.9718\n",
            "Epoch 10/100\n",
            "270/270 [==============================] - 1s 4ms/step - loss: 0.0848 - accuracy: 0.9756 - val_loss: 0.0884 - val_accuracy: 0.9732\n",
            "Epoch 11/100\n",
            "270/270 [==============================] - 1s 4ms/step - loss: 0.0742 - accuracy: 0.9794 - val_loss: 0.0875 - val_accuracy: 0.9745\n",
            "Epoch 12/100\n",
            "270/270 [==============================] - 1s 4ms/step - loss: 0.0660 - accuracy: 0.9816 - val_loss: 0.0836 - val_accuracy: 0.9742\n",
            "Epoch 13/100\n",
            "270/270 [==============================] - 1s 4ms/step - loss: 0.0579 - accuracy: 0.9841 - val_loss: 0.0823 - val_accuracy: 0.9748\n",
            "Epoch 14/100\n",
            "270/270 [==============================] - 1s 4ms/step - loss: 0.0517 - accuracy: 0.9862 - val_loss: 0.0781 - val_accuracy: 0.9762\n",
            "Epoch 15/100\n",
            "270/270 [==============================] - 1s 4ms/step - loss: 0.0462 - accuracy: 0.9880 - val_loss: 0.0744 - val_accuracy: 0.9747\n",
            "Epoch 16/100\n",
            "270/270 [==============================] - 1s 4ms/step - loss: 0.0404 - accuracy: 0.9899 - val_loss: 0.0707 - val_accuracy: 0.9785\n",
            "Epoch 17/100\n",
            "270/270 [==============================] - 1s 4ms/step - loss: 0.0360 - accuracy: 0.9914 - val_loss: 0.0689 - val_accuracy: 0.9790\n",
            "Epoch 18/100\n",
            "270/270 [==============================] - 1s 4ms/step - loss: 0.0317 - accuracy: 0.9929 - val_loss: 0.0675 - val_accuracy: 0.9785\n",
            "Epoch 19/100\n",
            "270/270 [==============================] - 1s 4ms/step - loss: 0.0275 - accuracy: 0.9936 - val_loss: 0.0696 - val_accuracy: 0.9792\n",
            "Epoch 20/100\n",
            "270/270 [==============================] - 1s 4ms/step - loss: 0.0244 - accuracy: 0.9948 - val_loss: 0.0673 - val_accuracy: 0.9795\n",
            "Epoch 21/100\n",
            "270/270 [==============================] - 1s 4ms/step - loss: 0.0214 - accuracy: 0.9957 - val_loss: 0.0662 - val_accuracy: 0.9793\n",
            "Epoch 22/100\n",
            "270/270 [==============================] - 1s 4ms/step - loss: 0.0186 - accuracy: 0.9964 - val_loss: 0.0672 - val_accuracy: 0.9797\n",
            "Epoch 23/100\n",
            "270/270 [==============================] - 1s 4ms/step - loss: 0.0167 - accuracy: 0.9971 - val_loss: 0.0655 - val_accuracy: 0.9803\n",
            "Epoch 24/100\n",
            "270/270 [==============================] - 1s 4ms/step - loss: 0.0141 - accuracy: 0.9978 - val_loss: 0.0655 - val_accuracy: 0.9803\n",
            "Epoch 25/100\n",
            "270/270 [==============================] - 1s 4ms/step - loss: 0.0123 - accuracy: 0.9984 - val_loss: 0.0653 - val_accuracy: 0.9813\n",
            "Epoch 26/100\n",
            "270/270 [==============================] - 1s 4ms/step - loss: 0.0109 - accuracy: 0.9986 - val_loss: 0.0637 - val_accuracy: 0.9817\n",
            "Epoch 27/100\n",
            "270/270 [==============================] - 1s 4ms/step - loss: 0.0097 - accuracy: 0.9990 - val_loss: 0.0643 - val_accuracy: 0.9813\n",
            "Epoch 28/100\n",
            "270/270 [==============================] - 1s 4ms/step - loss: 0.0085 - accuracy: 0.9993 - val_loss: 0.0653 - val_accuracy: 0.9810\n",
            "Epoch 29/100\n",
            "270/270 [==============================] - 1s 4ms/step - loss: 0.0071 - accuracy: 0.9994 - val_loss: 0.0631 - val_accuracy: 0.9820\n",
            "Epoch 30/100\n",
            "270/270 [==============================] - 1s 4ms/step - loss: 0.0062 - accuracy: 0.9996 - val_loss: 0.0657 - val_accuracy: 0.9817\n",
            "Epoch 31/100\n",
            "270/270 [==============================] - 1s 4ms/step - loss: 0.0054 - accuracy: 0.9996 - val_loss: 0.0650 - val_accuracy: 0.9815\n",
            "Epoch 32/100\n",
            "270/270 [==============================] - 1s 4ms/step - loss: 0.0046 - accuracy: 0.9998 - val_loss: 0.0663 - val_accuracy: 0.9825\n",
            "Epoch 33/100\n",
            "270/270 [==============================] - 1s 4ms/step - loss: 0.0042 - accuracy: 0.9996 - val_loss: 0.0632 - val_accuracy: 0.9827\n",
            "Epoch 34/100\n",
            "270/270 [==============================] - 1s 4ms/step - loss: 0.0035 - accuracy: 0.9999 - val_loss: 0.0666 - val_accuracy: 0.9813\n",
            "Epoch 35/100\n",
            "270/270 [==============================] - 1s 4ms/step - loss: 0.0030 - accuracy: 0.9999 - val_loss: 0.0657 - val_accuracy: 0.9818\n",
            "Epoch 36/100\n",
            "270/270 [==============================] - 1s 4ms/step - loss: 0.0028 - accuracy: 0.9998 - val_loss: 0.0644 - val_accuracy: 0.9820\n",
            "Epoch 37/100\n",
            "270/270 [==============================] - 1s 4ms/step - loss: 0.0023 - accuracy: 1.0000 - val_loss: 0.0682 - val_accuracy: 0.9815\n",
            "Epoch 38/100\n",
            "270/270 [==============================] - 1s 4ms/step - loss: 0.0020 - accuracy: 1.0000 - val_loss: 0.0657 - val_accuracy: 0.9833\n",
            "Epoch 39/100\n",
            "270/270 [==============================] - 1s 4ms/step - loss: 0.0020 - accuracy: 0.9999 - val_loss: 0.0724 - val_accuracy: 0.9812\n",
            "Epoch 40/100\n",
            "270/270 [==============================] - 1s 4ms/step - loss: 0.0017 - accuracy: 1.0000 - val_loss: 0.0681 - val_accuracy: 0.9823\n",
            "Epoch 41/100\n",
            "270/270 [==============================] - 1s 4ms/step - loss: 0.0013 - accuracy: 1.0000 - val_loss: 0.0693 - val_accuracy: 0.9822\n",
            "Epoch 42/100\n",
            "270/270 [==============================] - 1s 4ms/step - loss: 0.0012 - accuracy: 1.0000 - val_loss: 0.0685 - val_accuracy: 0.9825\n",
            "Epoch 43/100\n",
            "270/270 [==============================] - 1s 4ms/step - loss: 0.0011 - accuracy: 1.0000 - val_loss: 0.0689 - val_accuracy: 0.9822\n",
            "Epoch 44/100\n",
            "270/270 [==============================] - 1s 4ms/step - loss: 8.9016e-04 - accuracy: 1.0000 - val_loss: 0.0695 - val_accuracy: 0.9818\n",
            "Epoch 45/100\n",
            "270/270 [==============================] - 1s 4ms/step - loss: 8.0485e-04 - accuracy: 1.0000 - val_loss: 0.0701 - val_accuracy: 0.9825\n",
            "Epoch 46/100\n",
            "270/270 [==============================] - 1s 4ms/step - loss: 6.6644e-04 - accuracy: 1.0000 - val_loss: 0.0713 - val_accuracy: 0.9832\n",
            "Epoch 47/100\n",
            "270/270 [==============================] - 1s 4ms/step - loss: 6.2133e-04 - accuracy: 1.0000 - val_loss: 0.0719 - val_accuracy: 0.9835\n",
            "Epoch 48/100\n",
            "270/270 [==============================] - 1s 4ms/step - loss: 5.6627e-04 - accuracy: 1.0000 - val_loss: 0.0710 - val_accuracy: 0.9825\n",
            "Epoch 49/100\n",
            "270/270 [==============================] - 1s 4ms/step - loss: 4.7707e-04 - accuracy: 1.0000 - val_loss: 0.0715 - val_accuracy: 0.9828\n",
            "Epoch 50/100\n",
            "270/270 [==============================] - 1s 4ms/step - loss: 4.0546e-04 - accuracy: 1.0000 - val_loss: 0.0713 - val_accuracy: 0.9838\n",
            "Epoch 51/100\n",
            "270/270 [==============================] - 1s 4ms/step - loss: 3.5152e-04 - accuracy: 1.0000 - val_loss: 0.0737 - val_accuracy: 0.9830\n",
            "Epoch 52/100\n",
            "270/270 [==============================] - 1s 4ms/step - loss: 3.1734e-04 - accuracy: 1.0000 - val_loss: 0.0731 - val_accuracy: 0.9832\n",
            "Epoch 53/100\n",
            "270/270 [==============================] - 1s 4ms/step - loss: 2.9439e-04 - accuracy: 1.0000 - val_loss: 0.0740 - val_accuracy: 0.9825\n",
            "Epoch 54/100\n",
            "270/270 [==============================] - 1s 4ms/step - loss: 2.6335e-04 - accuracy: 1.0000 - val_loss: 0.0746 - val_accuracy: 0.9835\n",
            "Epoch 55/100\n",
            "270/270 [==============================] - 1s 4ms/step - loss: 2.1018e-04 - accuracy: 1.0000 - val_loss: 0.0733 - val_accuracy: 0.9830\n",
            "Epoch 56/100\n",
            "270/270 [==============================] - 1s 4ms/step - loss: 1.8295e-04 - accuracy: 1.0000 - val_loss: 0.0762 - val_accuracy: 0.9835\n",
            "Epoch 57/100\n",
            "270/270 [==============================] - 1s 4ms/step - loss: 1.6130e-04 - accuracy: 1.0000 - val_loss: 0.0772 - val_accuracy: 0.9833\n",
            "Epoch 58/100\n",
            "270/270 [==============================] - 1s 4ms/step - loss: 1.4746e-04 - accuracy: 1.0000 - val_loss: 0.0767 - val_accuracy: 0.9835\n",
            "Epoch 59/100\n",
            "270/270 [==============================] - 1s 4ms/step - loss: 1.3345e-04 - accuracy: 1.0000 - val_loss: 0.0775 - val_accuracy: 0.9833\n",
            "Epoch 60/100\n",
            "270/270 [==============================] - 1s 4ms/step - loss: 1.1114e-04 - accuracy: 1.0000 - val_loss: 0.0773 - val_accuracy: 0.9825\n",
            "Epoch 61/100\n",
            "270/270 [==============================] - 1s 4ms/step - loss: 9.8056e-05 - accuracy: 1.0000 - val_loss: 0.0780 - val_accuracy: 0.9833\n",
            "Epoch 62/100\n",
            "270/270 [==============================] - 1s 4ms/step - loss: 8.5949e-05 - accuracy: 1.0000 - val_loss: 0.0799 - val_accuracy: 0.9833\n",
            "Epoch 63/100\n",
            "270/270 [==============================] - 1s 4ms/step - loss: 7.6819e-05 - accuracy: 1.0000 - val_loss: 0.0800 - val_accuracy: 0.9828\n",
            "Epoch 64/100\n",
            "270/270 [==============================] - 1s 4ms/step - loss: 6.5817e-05 - accuracy: 1.0000 - val_loss: 0.0806 - val_accuracy: 0.9833\n",
            "Epoch 65/100\n",
            "270/270 [==============================] - 1s 4ms/step - loss: 6.4613e-05 - accuracy: 1.0000 - val_loss: 0.0800 - val_accuracy: 0.9832\n",
            "Epoch 66/100\n",
            "270/270 [==============================] - 1s 4ms/step - loss: 5.2018e-05 - accuracy: 1.0000 - val_loss: 0.0813 - val_accuracy: 0.9835\n",
            "Epoch 67/100\n",
            "270/270 [==============================] - 1s 4ms/step - loss: 4.4703e-05 - accuracy: 1.0000 - val_loss: 0.0814 - val_accuracy: 0.9835\n",
            "Epoch 68/100\n",
            "270/270 [==============================] - 1s 4ms/step - loss: 3.8855e-05 - accuracy: 1.0000 - val_loss: 0.0835 - val_accuracy: 0.9832\n",
            "Epoch 69/100\n",
            "270/270 [==============================] - 1s 4ms/step - loss: 3.4694e-05 - accuracy: 1.0000 - val_loss: 0.0834 - val_accuracy: 0.9835\n",
            "Epoch 70/100\n",
            "270/270 [==============================] - 1s 4ms/step - loss: 3.1388e-05 - accuracy: 1.0000 - val_loss: 0.0850 - val_accuracy: 0.9832\n",
            "Epoch 71/100\n",
            "270/270 [==============================] - 1s 5ms/step - loss: 2.6929e-05 - accuracy: 1.0000 - val_loss: 0.0867 - val_accuracy: 0.9833\n",
            "Epoch 72/100\n",
            "270/270 [==============================] - 1s 4ms/step - loss: 2.3636e-05 - accuracy: 1.0000 - val_loss: 0.0853 - val_accuracy: 0.9840\n",
            "Epoch 73/100\n",
            "270/270 [==============================] - 1s 4ms/step - loss: 2.1180e-05 - accuracy: 1.0000 - val_loss: 0.0858 - val_accuracy: 0.9833\n",
            "Epoch 74/100\n",
            "270/270 [==============================] - 1s 4ms/step - loss: 0.0013 - accuracy: 0.9996 - val_loss: 0.1403 - val_accuracy: 0.9732\n",
            "Epoch 75/100\n",
            "270/270 [==============================] - 1s 4ms/step - loss: 0.0027 - accuracy: 0.9993 - val_loss: 0.0885 - val_accuracy: 0.9818\n",
            "Epoch 76/100\n",
            "270/270 [==============================] - 1s 4ms/step - loss: 8.3771e-05 - accuracy: 1.0000 - val_loss: 0.0862 - val_accuracy: 0.9830\n",
            "Epoch 77/100\n",
            "270/270 [==============================] - 1s 4ms/step - loss: 5.1504e-05 - accuracy: 1.0000 - val_loss: 0.0864 - val_accuracy: 0.9828\n",
            "Epoch 78/100\n",
            "270/270 [==============================] - 1s 4ms/step - loss: 4.2500e-05 - accuracy: 1.0000 - val_loss: 0.0869 - val_accuracy: 0.9828\n",
            "Epoch 79/100\n",
            "270/270 [==============================] - 1s 4ms/step - loss: 3.6942e-05 - accuracy: 1.0000 - val_loss: 0.0869 - val_accuracy: 0.9830\n",
            "Epoch 80/100\n",
            "270/270 [==============================] - 1s 4ms/step - loss: 3.2835e-05 - accuracy: 1.0000 - val_loss: 0.0870 - val_accuracy: 0.9830\n",
            "Epoch 81/100\n",
            "270/270 [==============================] - 1s 4ms/step - loss: 2.9706e-05 - accuracy: 1.0000 - val_loss: 0.0872 - val_accuracy: 0.9827\n",
            "Epoch 82/100\n",
            "270/270 [==============================] - 1s 4ms/step - loss: 2.7239e-05 - accuracy: 1.0000 - val_loss: 0.0877 - val_accuracy: 0.9828\n",
            "Epoch 83/100\n",
            "270/270 [==============================] - 1s 4ms/step - loss: 2.5056e-05 - accuracy: 1.0000 - val_loss: 0.0880 - val_accuracy: 0.9827\n",
            "Epoch 84/100\n",
            "270/270 [==============================] - 1s 4ms/step - loss: 2.3077e-05 - accuracy: 1.0000 - val_loss: 0.0879 - val_accuracy: 0.9828\n",
            "Epoch 85/100\n",
            "270/270 [==============================] - 1s 4ms/step - loss: 2.1540e-05 - accuracy: 1.0000 - val_loss: 0.0884 - val_accuracy: 0.9825\n",
            "Epoch 86/100\n",
            "270/270 [==============================] - 1s 4ms/step - loss: 2.0110e-05 - accuracy: 1.0000 - val_loss: 0.0883 - val_accuracy: 0.9827\n",
            "Epoch 87/100\n",
            "270/270 [==============================] - 1s 4ms/step - loss: 1.8794e-05 - accuracy: 1.0000 - val_loss: 0.0884 - val_accuracy: 0.9828\n",
            "Epoch 88/100\n",
            "270/270 [==============================] - 1s 4ms/step - loss: 1.7585e-05 - accuracy: 1.0000 - val_loss: 0.0887 - val_accuracy: 0.9828\n",
            "Epoch 89/100\n",
            "270/270 [==============================] - 1s 4ms/step - loss: 1.6610e-05 - accuracy: 1.0000 - val_loss: 0.0889 - val_accuracy: 0.9830\n",
            "Epoch 90/100\n",
            "270/270 [==============================] - 1s 4ms/step - loss: 1.5579e-05 - accuracy: 1.0000 - val_loss: 0.0892 - val_accuracy: 0.9832\n",
            "Epoch 91/100\n",
            "270/270 [==============================] - 1s 4ms/step - loss: 1.4677e-05 - accuracy: 1.0000 - val_loss: 0.0891 - val_accuracy: 0.9832\n",
            "Epoch 92/100\n",
            "270/270 [==============================] - 1s 4ms/step - loss: 1.3851e-05 - accuracy: 1.0000 - val_loss: 0.0895 - val_accuracy: 0.9835\n",
            "Epoch 93/100\n",
            "270/270 [==============================] - 1s 4ms/step - loss: 1.3087e-05 - accuracy: 1.0000 - val_loss: 0.0891 - val_accuracy: 0.9837\n",
            "Epoch 94/100\n",
            "270/270 [==============================] - 1s 4ms/step - loss: 1.2331e-05 - accuracy: 1.0000 - val_loss: 0.0901 - val_accuracy: 0.9835\n",
            "Epoch 95/100\n",
            "270/270 [==============================] - 1s 4ms/step - loss: 1.1681e-05 - accuracy: 1.0000 - val_loss: 0.0899 - val_accuracy: 0.9833\n",
            "Epoch 96/100\n",
            "270/270 [==============================] - 1s 4ms/step - loss: 1.1018e-05 - accuracy: 1.0000 - val_loss: 0.0896 - val_accuracy: 0.9835\n",
            "Epoch 97/100\n",
            "270/270 [==============================] - 1s 4ms/step - loss: 1.0360e-05 - accuracy: 1.0000 - val_loss: 0.0898 - val_accuracy: 0.9835\n",
            "Epoch 98/100\n",
            "270/270 [==============================] - 1s 4ms/step - loss: 9.7595e-06 - accuracy: 1.0000 - val_loss: 0.0900 - val_accuracy: 0.9833\n",
            "Epoch 99/100\n",
            "270/270 [==============================] - 1s 4ms/step - loss: 9.2346e-06 - accuracy: 1.0000 - val_loss: 0.0904 - val_accuracy: 0.9837\n",
            "Epoch 100/100\n",
            "270/270 [==============================] - 1s 4ms/step - loss: 8.6523e-06 - accuracy: 1.0000 - val_loss: 0.0908 - val_accuracy: 0.9835\n"
          ],
          "name": "stdout"
        }
      ]
    },
    {
      "cell_type": "code",
      "metadata": {
        "colab_type": "code",
        "id": "B12vN44Ln1CF",
        "colab": {
          "base_uri": "https://localhost:8080/",
          "height": 202
        },
        "outputId": "4fb0f756-68cd-448d-8c2f-b9e4d6fa522c"
      },
      "source": [
        "from sklearn.metrics import confusion_matrix\n",
        "loss, accuracy = model.evaluate(test_samples, test_labels,verbose=0)  # Evaluate the model\n",
        "print('Accuracy :%0.3f'%accuracy)\n",
        "\n",
        "pred_labels = model.predict(test_samples)\n",
        "cm = confusion_matrix(test_labels.argmax(axis=1), pred_labels.argmax(axis=1))\n",
        "print(cm )\n",
        "\n"
      ],
      "execution_count": 40,
      "outputs": [
        {
          "output_type": "stream",
          "text": [
            "Accuracy :0.982\n",
            "[[ 970    0    1    1    1    1    3    1    1    1]\n",
            " [   0 1124    3    1    0    1    2    1    3    0]\n",
            " [   5    1 1010    2    1    0    2    6    4    1]\n",
            " [   0    0    3  992    2    4    0    3    3    3]\n",
            " [   1    0    1    1  966    0    4    1    1    7]\n",
            " [   2    0    0    8    1  871    4    1    4    1]\n",
            " [   6    2    1    1    1    5  941    0    1    0]\n",
            " [   0    3    6    3    1    0    0 1009    1    5]\n",
            " [   2    0    1    3    5    4    1    3  953    2]\n",
            " [   2    2    0    3    7    4    0    4    1  986]]\n"
          ],
          "name": "stdout"
        }
      ]
    },
    {
      "cell_type": "code",
      "metadata": {
        "colab_type": "code",
        "id": "sdXS58IwWOXP",
        "colab": {
          "base_uri": "https://localhost:8080/",
          "height": 265
        },
        "outputId": "73ab4b67-a382-4935-866c-a0b54a696618"
      },
      "source": [
        "history.history.keys()\n",
        "import matplotlib.pyplot as plt\n",
        "plt.plot(range(len(history.history['val_accuracy'])), history.history['val_accuracy'])\n",
        "plt.show()"
      ],
      "execution_count": 41,
      "outputs": [
        {
          "output_type": "display_data",
          "data": {
            "image/png": "[encoded data removed]",
            "text/plain": [
              "<Figure size 432x288 with 1 Axes>"
            ]
          },
          "metadata": {
            "tags": [],
            "needs_background": "light"
          }
        }
      ]
    },
    {
      "cell_type": "code",
      "metadata": {
        "colab_type": "code",
        "id": "DySmpDX7n1CY",
        "colab": {}
      },
      "source": [
        ""
      ],
      "execution_count": 41,
      "outputs": []
    }
  ]
}